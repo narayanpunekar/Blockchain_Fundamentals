{
  "nbformat": 4,
  "nbformat_minor": 0,
  "metadata": {
    "colab": {
      "provenance": []
    },
    "kernelspec": {
      "name": "python3",
      "display_name": "Python 3"
    },
    "language_info": {
      "name": "python"
    }
  },
  "cells": [
    {
      "cell_type": "code",
      "execution_count": 85,
      "metadata": {
        "id": "Wu6rDaLxeoQs"
      },
      "outputs": [],
      "source": [
        "import datetime\n",
        "import hashlib\n",
        "import json"
      ]
    },
    {
      "cell_type": "code",
      "source": [
        "import numpy as np"
      ],
      "metadata": {
        "id": "o-iTjgffeB7F"
      },
      "execution_count": 86,
      "outputs": []
    },
    {
      "cell_type": "code",
      "source": [
        "class transactiondetailsBlockChain:\n",
        "  #Constructor\n",
        "  def __init__(self):\n",
        "    self.chain = []\n",
        "    #Genesis Block\n",
        "    self.create_block(TransactionNo=None, Date=None, ProductNo=None, ProductName=None, Price=None, Quantity=None, CustomerNo=None, Country=None, proof=1, previous_hash=None)\n",
        "\n",
        "  def create_block(self, TransactionNo, Date, ProductNo, ProductName, Price, Quantity, CustomerNo, Country, proof, previous_hash):\n",
        "    block = {\n",
        "        \"index\": len(self.chain) + 1,\n",
        "        \"timestamp\": str(datetime.datetime.now()),\n",
        "        \"proof\": proof,\n",
        "        \"TransactionNo\": TransactionNo,\n",
        "        \"Date\": Date,\n",
        "        \"ProductNo\": ProductNo,\n",
        "        \"ProductName\": ProductName,\n",
        "        \"Price\": Price,\n",
        "        \"Quantity\": Quantity,\n",
        "        \"CustomerNo\": CustomerNo,\n",
        "        \"Country\": Country,\n",
        "        \"previous_hash\": previous_hash\n",
        "    }\n",
        "    self.chain.append(block)\n",
        "\n",
        "  def get_previous_block(self):\n",
        "    return self.chain[-1]\n",
        "\n",
        "  def hash(self, block):\n",
        "    return hashlib.sha256(json.dumps(block, sort_keys=True).encode()).hexdigest()\n",
        "\n",
        "  #Proof Of Work: Mining\n",
        "  def proof_of_work(self, previous_proof):\n",
        "    new_proof = 1\n",
        "    print(previous_proof)\n",
        "    while True:\n",
        "      hash_operation = hashlib.sha256(str(np.sqrt(np.square(new_proof)+np.square(new_proof))-np.sqrt(np.square(previous_proof)+np.square(previous_proof))).encode()).hexdigest()\n",
        "      if hash_operation[0:4]=='1111':\n",
        "        print(\"Mining Done\")\n",
        "        break\n",
        "      else:\n",
        "        new_proof += 1\n",
        "\n",
        "    print(new_proof)\n",
        "    return new_proof\n",
        "\n",
        "  def mine_block(self, TransactionNo, Date, ProductNo, ProductName, Price, Quantity, CustomerNo, Country):\n",
        "    previous_block = self.get_previous_block()\n",
        "    previous_hash = self.hash(previous_block)\n",
        "    previous_block_proof = previous_block[\"proof\"]\n",
        "    myproof = self.proof_of_work(previous_block_proof)\n",
        "    self.create_block(TransactionNo, Date, ProductNo, ProductName, Price, Quantity, CustomerNo, Country, myproof, previous_hash)"
      ],
      "metadata": {
        "id": "OCZYd9kKez9k"
      },
      "execution_count": 109,
      "outputs": []
    },
    {
      "cell_type": "code",
      "source": [
        "myledger = transactiondetailsBlockChain()"
      ],
      "metadata": {
        "id": "-u-LRW_Qg8aT"
      },
      "execution_count": 110,
      "outputs": []
    },
    {
      "cell_type": "code",
      "source": [
        "myledger.chain"
      ],
      "metadata": {
        "colab": {
          "base_uri": "https://localhost:8080/"
        },
        "id": "UXyIDjYkhDgR",
        "outputId": "f11a4ae0-3a5d-498d-8e79-c73ceb510346"
      },
      "execution_count": 111,
      "outputs": [
        {
          "output_type": "execute_result",
          "data": {
            "text/plain": [
              "[{'index': 1,\n",
              "  'timestamp': '2023-10-06 06:23:16.064370',\n",
              "  'proof': 1,\n",
              "  'TransactionNo': None,\n",
              "  'Date': None,\n",
              "  'ProductNo': None,\n",
              "  'ProductName': None,\n",
              "  'Price': None,\n",
              "  'Quantity': None,\n",
              "  'CustomerNo': None,\n",
              "  'Country': None,\n",
              "  'previous_hash': None}]"
            ]
          },
          "metadata": {},
          "execution_count": 111
        }
      ]
    },
    {
      "cell_type": "code",
      "source": [
        "myledger.mine_block(581482, \"12-09-2019\", 22485, \"Set Of 2 Wooden Market Crates\", 21.47, 12, 17490, \"United Kingdom\")"
      ],
      "metadata": {
        "colab": {
          "base_uri": "https://localhost:8080/"
        },
        "id": "q_R_srojhOAi",
        "outputId": "6f246993-ce96-43cd-9886-aa2e7f40b554"
      },
      "execution_count": 112,
      "outputs": [
        {
          "output_type": "stream",
          "name": "stdout",
          "text": [
            "1\n",
            "Mining Done\n",
            "19792\n"
          ]
        }
      ]
    },
    {
      "cell_type": "code",
      "source": [
        "myledger.chain"
      ],
      "metadata": {
        "colab": {
          "base_uri": "https://localhost:8080/"
        },
        "id": "t2NmJzSFhY_Q",
        "outputId": "9b9e94d9-8a09-447d-9736-f3ca363e93f4"
      },
      "execution_count": 113,
      "outputs": [
        {
          "output_type": "execute_result",
          "data": {
            "text/plain": [
              "[{'index': 1,\n",
              "  'timestamp': '2023-10-06 06:23:16.064370',\n",
              "  'proof': 1,\n",
              "  'TransactionNo': None,\n",
              "  'Date': None,\n",
              "  'ProductNo': None,\n",
              "  'ProductName': None,\n",
              "  'Price': None,\n",
              "  'Quantity': None,\n",
              "  'CustomerNo': None,\n",
              "  'Country': None,\n",
              "  'previous_hash': None},\n",
              " {'index': 2,\n",
              "  'timestamp': '2023-10-06 06:23:26.047495',\n",
              "  'proof': 19792,\n",
              "  'TransactionNo': 581482,\n",
              "  'Date': '12-09-2019',\n",
              "  'ProductNo': 22485,\n",
              "  'ProductName': 'Set Of 2 Wooden Market Crates',\n",
              "  'Price': 21.47,\n",
              "  'Quantity': 12,\n",
              "  'CustomerNo': 17490,\n",
              "  'Country': 'United Kingdom',\n",
              "  'previous_hash': 'd0dd88fa12c19f417ae7cff774226714c7e2f1dda6ff30a086e2a655458f2959'}]"
            ]
          },
          "metadata": {},
          "execution_count": 113
        }
      ]
    },
    {
      "cell_type": "code",
      "source": [
        "myledger.mine_block(581475, \"12-09-2019\", 22596, \"Christmas Star Wish List Chalkboard\", 10.65, 36, 13069, \"United Kingdom\")"
      ],
      "metadata": {
        "colab": {
          "base_uri": "https://localhost:8080/"
        },
        "id": "XzCn8EXahk_3",
        "outputId": "37f94662-2b88-4177-fa5a-ab069002ac18"
      },
      "execution_count": 114,
      "outputs": [
        {
          "output_type": "stream",
          "name": "stdout",
          "text": [
            "19792\n",
            "Mining Done\n",
            "61590\n"
          ]
        }
      ]
    },
    {
      "cell_type": "code",
      "source": [
        "myledger.chain"
      ],
      "metadata": {
        "colab": {
          "base_uri": "https://localhost:8080/"
        },
        "id": "mMB7A_dbhsZ3",
        "outputId": "f582cf39-0d11-4030-8c97-abff5124549d"
      },
      "execution_count": 115,
      "outputs": [
        {
          "output_type": "execute_result",
          "data": {
            "text/plain": [
              "[{'index': 1,\n",
              "  'timestamp': '2023-10-06 06:23:16.064370',\n",
              "  'proof': 1,\n",
              "  'TransactionNo': None,\n",
              "  'Date': None,\n",
              "  'ProductNo': None,\n",
              "  'ProductName': None,\n",
              "  'Price': None,\n",
              "  'Quantity': None,\n",
              "  'CustomerNo': None,\n",
              "  'Country': None,\n",
              "  'previous_hash': None},\n",
              " {'index': 2,\n",
              "  'timestamp': '2023-10-06 06:23:26.047495',\n",
              "  'proof': 19792,\n",
              "  'TransactionNo': 581482,\n",
              "  'Date': '12-09-2019',\n",
              "  'ProductNo': 22485,\n",
              "  'ProductName': 'Set Of 2 Wooden Market Crates',\n",
              "  'Price': 21.47,\n",
              "  'Quantity': 12,\n",
              "  'CustomerNo': 17490,\n",
              "  'Country': 'United Kingdom',\n",
              "  'previous_hash': 'd0dd88fa12c19f417ae7cff774226714c7e2f1dda6ff30a086e2a655458f2959'},\n",
              " {'index': 3,\n",
              "  'timestamp': '2023-10-06 06:23:39.149087',\n",
              "  'proof': 61590,\n",
              "  'TransactionNo': 581475,\n",
              "  'Date': '12-09-2019',\n",
              "  'ProductNo': 22596,\n",
              "  'ProductName': 'Christmas Star Wish List Chalkboard',\n",
              "  'Price': 10.65,\n",
              "  'Quantity': 36,\n",
              "  'CustomerNo': 13069,\n",
              "  'Country': 'United Kingdom',\n",
              "  'previous_hash': '1af94d8deee6e89ee6a58209c05ff30dd6a427d94e7395b02daf53c6bddc77dd'}]"
            ]
          },
          "metadata": {},
          "execution_count": 115
        }
      ]
    },
    {
      "cell_type": "code",
      "source": [
        "myledger.mine_block(581475, \"12-09-2019\", 23235, \"Storage Tin Vintage Leaf\", 11.53, 12, 13069, \"United Kingdom\")"
      ],
      "metadata": {
        "colab": {
          "base_uri": "https://localhost:8080/"
        },
        "id": "rYHTxehfh-Sp",
        "outputId": "c99fbdce-22d0-414f-df77-c05e37920bae"
      },
      "execution_count": 116,
      "outputs": [
        {
          "output_type": "stream",
          "name": "stdout",
          "text": [
            "61590\n",
            "Mining Done\n",
            "29174\n"
          ]
        }
      ]
    },
    {
      "cell_type": "code",
      "source": [
        "myledger.mine_block(581475, \"12-09-2019\", 23272, \"Tree T-Light Holder Willie Winkie\", 10.65, 12, 13069, \"United Kingdom\")"
      ],
      "metadata": {
        "colab": {
          "base_uri": "https://localhost:8080/"
        },
        "id": "bOkOI9tHiA7x",
        "outputId": "67af3df2-f3af-4e03-80f9-148725473be0"
      },
      "execution_count": 117,
      "outputs": [
        {
          "output_type": "stream",
          "name": "stdout",
          "text": [
            "29174\n",
            "Mining Done\n",
            "48965\n"
          ]
        }
      ]
    },
    {
      "cell_type": "code",
      "source": [
        "myledger.mine_block(581475, \"12-09-2019\", 23239, \"Set Of 4 Knick Knack Tins Poppies\", 11.94, 6, 13069, \"United Kingdom\")"
      ],
      "metadata": {
        "colab": {
          "base_uri": "https://localhost:8080/"
        },
        "id": "NmhJXExHiCpw",
        "outputId": "8731b992-134f-4d1d-b0dc-7b5548b76626"
      },
      "execution_count": 118,
      "outputs": [
        {
          "output_type": "stream",
          "name": "stdout",
          "text": [
            "48965\n",
            "Mining Done\n",
            "16549\n"
          ]
        }
      ]
    },
    {
      "cell_type": "code",
      "source": [
        "myledger.mine_block(581475, \"12-09-2019\", 21705, \"Bag 500g Swirly Marbles\", 10.65, 24, 13069, \"United Kingdom\")"
      ],
      "metadata": {
        "colab": {
          "base_uri": "https://localhost:8080/"
        },
        "id": "4tfqhZLWiDPK",
        "outputId": "6f083a46-0c68-4c26-fd5d-a271f2f64f20"
      },
      "execution_count": 119,
      "outputs": [
        {
          "output_type": "stream",
          "name": "stdout",
          "text": [
            "16549\n",
            "Mining Done\n",
            "49622\n"
          ]
        }
      ]
    },
    {
      "cell_type": "code",
      "source": [
        "myledger.mine_block(581475, \"12-09-2019\", 22118, \"Joy Wooden Block Letters\", 11.53, 18, 13069, \"United Kingdom\")"
      ],
      "metadata": {
        "colab": {
          "base_uri": "https://localhost:8080/"
        },
        "id": "8lpmvm-ViDob",
        "outputId": "43d4f293-98f0-4f68-8557-e7d534c3a9fe"
      },
      "execution_count": 120,
      "outputs": [
        {
          "output_type": "stream",
          "name": "stdout",
          "text": [
            "49622\n",
            "Mining Done\n",
            "17206\n"
          ]
        }
      ]
    },
    {
      "cell_type": "code",
      "source": [
        "myledger.mine_block(581475, \"12-09-2019\", 22119, \"Peace Wooden Block Letters\", 12.25, 12, 13069, \"United Kingdom\")"
      ],
      "metadata": {
        "colab": {
          "base_uri": "https://localhost:8080/"
        },
        "id": "8Hp9bDyViD8n",
        "outputId": "edd4cc5a-14af-4a0c-9f92-4eb880cbab89"
      },
      "execution_count": 121,
      "outputs": [
        {
          "output_type": "stream",
          "name": "stdout",
          "text": [
            "17206\n",
            "Mining Done\n",
            "59004\n"
          ]
        }
      ]
    },
    {
      "cell_type": "code",
      "source": [
        "myledger.mine_block(581475, \"12-09-2019\", 22217, \"T-Light Holder Hanging Lace\", 10.65, 12, 13069, \"United Kingdom\")"
      ],
      "metadata": {
        "colab": {
          "base_uri": "https://localhost:8080/"
        },
        "id": "7nECf_0kiESd",
        "outputId": "3307eb2d-c13e-4a4b-fbb4-a6973ad41f3a"
      },
      "execution_count": 122,
      "outputs": [
        {
          "output_type": "stream",
          "name": "stdout",
          "text": [
            "59004\n",
            "Mining Done\n",
            "78795\n"
          ]
        }
      ]
    },
    {
      "cell_type": "code",
      "source": [
        "myledger.mine_block(581475, \"12-09-2019\", 22216, \"T-Light Holder White Lace\", 10.55, 24, 13069, \"United Kingdom\")"
      ],
      "metadata": {
        "colab": {
          "base_uri": "https://localhost:8080/"
        },
        "id": "VLgqwx9GiEoH",
        "outputId": "e35678cd-9470-45ec-d3d9-92ce8ae594ee"
      },
      "execution_count": 123,
      "outputs": [
        {
          "output_type": "stream",
          "name": "stdout",
          "text": [
            "78795\n",
            "Mining Done\n",
            "46379\n"
          ]
        }
      ]
    },
    {
      "cell_type": "code",
      "source": [
        "myledger.mine_block(581475, \"12-09-2019\", 22380, \"Toy Tidy Spaceboy\", 11.06, 20, 13069, \"United Kingdom\")"
      ],
      "metadata": {
        "colab": {
          "base_uri": "https://localhost:8080/"
        },
        "id": "UZV7UUIIiE8Q",
        "outputId": "7ee60a4b-a82c-4edb-ca2d-2e06858616a8"
      },
      "execution_count": 124,
      "outputs": [
        {
          "output_type": "stream",
          "name": "stdout",
          "text": [
            "46379\n",
            "Mining Done\n",
            "22845\n"
          ]
        }
      ]
    },
    {
      "cell_type": "code",
      "source": [
        "myledger.mine_block(581475, \"12-09-2019\", 22442, \"Grow Your Own Flowers Set Of 3\", 12.25, 12, 13069, \"United Kingdom\")"
      ],
      "metadata": {
        "colab": {
          "base_uri": "https://localhost:8080/"
        },
        "id": "D_XQE7KfiFQ8",
        "outputId": "9a249f31-14be-4149-8664-a8cccbdf0b7b"
      },
      "execution_count": 125,
      "outputs": [
        {
          "output_type": "stream",
          "name": "stdout",
          "text": [
            "22845\n",
            "Mining Done\n",
            "64643\n"
          ]
        }
      ]
    },
    {
      "cell_type": "code",
      "source": [
        "myledger.mine_block(581475, \"12-09-2019\", 22664, \"Toy Tidy Dolly Girl Design\", 11.06, 20, 13069, \"United Kingdom\")"
      ],
      "metadata": {
        "colab": {
          "base_uri": "https://localhost:8080/"
        },
        "id": "BTHQGt3eiFlh",
        "outputId": "9ec31cb7-2110-4cee-a99c-ca109414ff64"
      },
      "execution_count": 126,
      "outputs": [
        {
          "output_type": "stream",
          "name": "stdout",
          "text": [
            "64643\n",
            "Mining Done\n",
            "32227\n"
          ]
        }
      ]
    },
    {
      "cell_type": "code",
      "source": [
        "myledger.mine_block(581475, \"12-09-2019\", 22721, \"Set Of 3 Cake Tins Sketchbook\", 12.25, 12, 13069, \"United Kingdom\")"
      ],
      "metadata": {
        "colab": {
          "base_uri": "https://localhost:8080/"
        },
        "id": "G1qVMUpMiF4a",
        "outputId": "76659d6c-8fd6-42d3-88a0-52cc2f51c9b3"
      },
      "execution_count": 127,
      "outputs": [
        {
          "output_type": "stream",
          "name": "stdout",
          "text": [
            "32227\n",
            "Mining Done\n",
            "52018\n"
          ]
        }
      ]
    },
    {
      "cell_type": "code",
      "source": [
        "len(myledger.chain)"
      ],
      "metadata": {
        "colab": {
          "base_uri": "https://localhost:8080/"
        },
        "id": "8mJx7Iorja3f",
        "outputId": "16ab1471-d0b5-41f0-9ed4-9e9606054221"
      },
      "execution_count": 128,
      "outputs": [
        {
          "output_type": "execute_result",
          "data": {
            "text/plain": [
              "15"
            ]
          },
          "metadata": {},
          "execution_count": 128
        }
      ]
    },
    {
      "cell_type": "code",
      "source": [
        "myledger.chain"
      ],
      "metadata": {
        "colab": {
          "base_uri": "https://localhost:8080/"
        },
        "id": "I_Fs3cy6jeim",
        "outputId": "c92a6700-e03d-449e-ef95-a7df7ff7dfef"
      },
      "execution_count": 129,
      "outputs": [
        {
          "output_type": "execute_result",
          "data": {
            "text/plain": [
              "[{'index': 1,\n",
              "  'timestamp': '2023-10-06 06:23:16.064370',\n",
              "  'proof': 1,\n",
              "  'TransactionNo': None,\n",
              "  'Date': None,\n",
              "  'ProductNo': None,\n",
              "  'ProductName': None,\n",
              "  'Price': None,\n",
              "  'Quantity': None,\n",
              "  'CustomerNo': None,\n",
              "  'Country': None,\n",
              "  'previous_hash': None},\n",
              " {'index': 2,\n",
              "  'timestamp': '2023-10-06 06:23:26.047495',\n",
              "  'proof': 19792,\n",
              "  'TransactionNo': 581482,\n",
              "  'Date': '12-09-2019',\n",
              "  'ProductNo': 22485,\n",
              "  'ProductName': 'Set Of 2 Wooden Market Crates',\n",
              "  'Price': 21.47,\n",
              "  'Quantity': 12,\n",
              "  'CustomerNo': 17490,\n",
              "  'Country': 'United Kingdom',\n",
              "  'previous_hash': 'd0dd88fa12c19f417ae7cff774226714c7e2f1dda6ff30a086e2a655458f2959'},\n",
              " {'index': 3,\n",
              "  'timestamp': '2023-10-06 06:23:39.149087',\n",
              "  'proof': 61590,\n",
              "  'TransactionNo': 581475,\n",
              "  'Date': '12-09-2019',\n",
              "  'ProductNo': 22596,\n",
              "  'ProductName': 'Christmas Star Wish List Chalkboard',\n",
              "  'Price': 10.65,\n",
              "  'Quantity': 36,\n",
              "  'CustomerNo': 13069,\n",
              "  'Country': 'United Kingdom',\n",
              "  'previous_hash': '1af94d8deee6e89ee6a58209c05ff30dd6a427d94e7395b02daf53c6bddc77dd'},\n",
              " {'index': 4,\n",
              "  'timestamp': '2023-10-06 06:23:48.143831',\n",
              "  'proof': 29174,\n",
              "  'TransactionNo': 581475,\n",
              "  'Date': '12-09-2019',\n",
              "  'ProductNo': 23235,\n",
              "  'ProductName': 'Storage Tin Vintage Leaf',\n",
              "  'Price': 11.53,\n",
              "  'Quantity': 12,\n",
              "  'CustomerNo': 13069,\n",
              "  'Country': 'United Kingdom',\n",
              "  'previous_hash': '32af0e28383648bba78b7d8b7388ad74d8b79819f869bfb7a89868ed014432e4'},\n",
              " {'index': 5,\n",
              "  'timestamp': '2023-10-06 06:23:50.911896',\n",
              "  'proof': 48965,\n",
              "  'TransactionNo': 581475,\n",
              "  'Date': '12-09-2019',\n",
              "  'ProductNo': 23272,\n",
              "  'ProductName': 'Tree T-Light Holder Willie Winkie',\n",
              "  'Price': 10.65,\n",
              "  'Quantity': 12,\n",
              "  'CustomerNo': 13069,\n",
              "  'Country': 'United Kingdom',\n",
              "  'previous_hash': '814cb56c690524fa795984c39e9ce90979b2fe5c640c9b28ac66beb45af732bd'},\n",
              " {'index': 6,\n",
              "  'timestamp': '2023-10-06 06:23:53.267648',\n",
              "  'proof': 16549,\n",
              "  'TransactionNo': 581475,\n",
              "  'Date': '12-09-2019',\n",
              "  'ProductNo': 23239,\n",
              "  'ProductName': 'Set Of 4 Knick Knack Tins Poppies',\n",
              "  'Price': 11.94,\n",
              "  'Quantity': 6,\n",
              "  'CustomerNo': 13069,\n",
              "  'Country': 'United Kingdom',\n",
              "  'previous_hash': 'd579fc697d77d1343e262d2035fb0255c92dbebcaba3acd84fe0507d771d8747'},\n",
              " {'index': 7,\n",
              "  'timestamp': '2023-10-06 06:24:00.933775',\n",
              "  'proof': 49622,\n",
              "  'TransactionNo': 581475,\n",
              "  'Date': '12-09-2019',\n",
              "  'ProductNo': 21705,\n",
              "  'ProductName': 'Bag 500g Swirly Marbles',\n",
              "  'Price': 10.65,\n",
              "  'Quantity': 24,\n",
              "  'CustomerNo': 13069,\n",
              "  'Country': 'United Kingdom',\n",
              "  'previous_hash': 'd5c19e7b77f718ebea0e56c37cb0bad7d3927061d4c61f8107ccc522aad0700c'},\n",
              " {'index': 8,\n",
              "  'timestamp': '2023-10-06 06:24:03.295255',\n",
              "  'proof': 17206,\n",
              "  'TransactionNo': 581475,\n",
              "  'Date': '12-09-2019',\n",
              "  'ProductNo': 22118,\n",
              "  'ProductName': 'Joy Wooden Block Letters',\n",
              "  'Price': 11.53,\n",
              "  'Quantity': 18,\n",
              "  'CustomerNo': 13069,\n",
              "  'Country': 'United Kingdom',\n",
              "  'previous_hash': '98df796247b8e9f5d44a1d7eaa1bfca9933164d6174c0a2c755cc20a1eba3c32'},\n",
              " {'index': 9,\n",
              "  'timestamp': '2023-10-06 06:24:09.321986',\n",
              "  'proof': 59004,\n",
              "  'TransactionNo': 581475,\n",
              "  'Date': '12-09-2019',\n",
              "  'ProductNo': 22119,\n",
              "  'ProductName': 'Peace Wooden Block Letters',\n",
              "  'Price': 12.25,\n",
              "  'Quantity': 12,\n",
              "  'CustomerNo': 13069,\n",
              "  'Country': 'United Kingdom',\n",
              "  'previous_hash': 'fb995cab76bacee0150328777b00f87d86a4d1c286f2ba650807551637b6ce89'},\n",
              " {'index': 10,\n",
              "  'timestamp': '2023-10-06 06:24:11.751593',\n",
              "  'proof': 78795,\n",
              "  'TransactionNo': 581475,\n",
              "  'Date': '12-09-2019',\n",
              "  'ProductNo': 22217,\n",
              "  'ProductName': 'T-Light Holder Hanging Lace',\n",
              "  'Price': 10.65,\n",
              "  'Quantity': 12,\n",
              "  'CustomerNo': 13069,\n",
              "  'Country': 'United Kingdom',\n",
              "  'previous_hash': '0cbf76a5dd4342967beddb33d607f6dba0dda1b0f08f2c96efd7805b976830f9'},\n",
              " {'index': 11,\n",
              "  'timestamp': '2023-10-06 06:24:14.151728',\n",
              "  'proof': 46379,\n",
              "  'TransactionNo': 581475,\n",
              "  'Date': '12-09-2019',\n",
              "  'ProductNo': 22216,\n",
              "  'ProductName': 'T-Light Holder White Lace',\n",
              "  'Price': 10.55,\n",
              "  'Quantity': 24,\n",
              "  'CustomerNo': 13069,\n",
              "  'Country': 'United Kingdom',\n",
              "  'previous_hash': '5d6e77dc87586689251f42f74be9fe4582ac295659200fd4bbf4636a3b10dd9d'},\n",
              " {'index': 12,\n",
              "  'timestamp': '2023-10-06 06:24:19.460842',\n",
              "  'proof': 22845,\n",
              "  'TransactionNo': 581475,\n",
              "  'Date': '12-09-2019',\n",
              "  'ProductNo': 22380,\n",
              "  'ProductName': 'Toy Tidy Spaceboy',\n",
              "  'Price': 11.06,\n",
              "  'Quantity': 20,\n",
              "  'CustomerNo': 13069,\n",
              "  'Country': 'United Kingdom',\n",
              "  'previous_hash': '00d3a2724955fe06f24b8951e01f3a7540e6c65fb426dd790663c75a6a217b03'},\n",
              " {'index': 13,\n",
              "  'timestamp': '2023-10-06 06:24:23.374473',\n",
              "  'proof': 64643,\n",
              "  'TransactionNo': 581475,\n",
              "  'Date': '12-09-2019',\n",
              "  'ProductNo': 22442,\n",
              "  'ProductName': 'Grow Your Own Flowers Set Of 3',\n",
              "  'Price': 12.25,\n",
              "  'Quantity': 12,\n",
              "  'CustomerNo': 13069,\n",
              "  'Country': 'United Kingdom',\n",
              "  'previous_hash': 'f5c77b46f1f536c761f6a16d8babf919f727e64275eff2db4dc09fb5197263c8'},\n",
              " {'index': 14,\n",
              "  'timestamp': '2023-10-06 06:24:29.122206',\n",
              "  'proof': 32227,\n",
              "  'TransactionNo': 581475,\n",
              "  'Date': '12-09-2019',\n",
              "  'ProductNo': 22664,\n",
              "  'ProductName': 'Toy Tidy Dolly Girl Design',\n",
              "  'Price': 11.06,\n",
              "  'Quantity': 20,\n",
              "  'CustomerNo': 13069,\n",
              "  'Country': 'United Kingdom',\n",
              "  'previous_hash': '9592c3ab07e224b3b45652b6bb6ec711f49869b17d1301f4cf64245df6ef2c4a'},\n",
              " {'index': 15,\n",
              "  'timestamp': '2023-10-06 06:24:34.966101',\n",
              "  'proof': 52018,\n",
              "  'TransactionNo': 581475,\n",
              "  'Date': '12-09-2019',\n",
              "  'ProductNo': 22721,\n",
              "  'ProductName': 'Set Of 3 Cake Tins Sketchbook',\n",
              "  'Price': 12.25,\n",
              "  'Quantity': 12,\n",
              "  'CustomerNo': 13069,\n",
              "  'Country': 'United Kingdom',\n",
              "  'previous_hash': '0e76b599133ae4bbf255934143ae41d5e3b5506d1d81e9b30d3abde48c7c5d48'}]"
            ]
          },
          "metadata": {},
          "execution_count": 129
        }
      ]
    }
  ]
}